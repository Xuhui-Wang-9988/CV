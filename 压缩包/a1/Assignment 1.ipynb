{
  "cells": [
    {
      "cell_type": "markdown",
      "metadata": {
        "id": "mVr6zh_RnvXC"
      },
      "source": [
        "# Computer Vision 2022 Assignment 1: Image filtering\n",
        "\n",
        "In this prac you will research, implement and test some image filtering operations. Image filtering by convolution is a fundamental step in many computer vision tasks and you will find it useful to have a firm grasp of how it works. For example, later in the course we will come across Convolutional Neural Networks (CNNs) which are built from convolutional image filters.\n",
        "\n",
        "The main aims of the prac are:\n",
        "\n",
        "- to understand the basics of how images are stored and processed in memory;\n",
        "- to gain exposure to several common image filters, and understand how they work;\n",
        "- to get practical experience implementing convolutional image filters;\n",
        "- to test your intuition about image filtering by running some experiments;\n",
        "- to report your results in a clear and concise manner.\n",
        "\n",
        "*This assignment relates to the following ACS CBOK areas: abstraction, design, hardware and software, data and information, HCI and programming.*\n",
        "\n",
        "## General instructions\n",
        "\n",
        "Follow the instructions in this Python notebook and the accompanying file *a1code.py* to answer each question. It's your responsibility to make sure your answer to each question is clearly labelled and easy to understand. Note that most questions require some combination of Python code, graphical output, and text analysing or describing your results. Although we will check your code as needed, marks will be assigned based on the quality of your write up rather than for code correctness! This is not a programming test - we are more interested in your understanding of the topic.\n",
        "\n",
        "Only a small amount of code is required to answer each question. We will make extensive use of the Python libraries\n",
        "\n",
        "- [numpy](numpy.org) for mathematical functions\n",
        "- [skimage](https://scikit-image.org) for image loading and processing\n",
        "- [matplotlib](https://matplotlib.org/stable/index.html) for displaying graphical results\n",
        "- [jupyter](https://jupyter.org) for Jupyter Notebooks\n",
        "\n",
        "You should get familiar with the documentation for these libraries so that you can use them effectively.\n",
        "\n",
        "# The Questions\n",
        "\n",
        "To get started, below is some setup code to import the libraries we need. You should not need to edit it."
      ]
    },
    {
      "cell_type": "code",
      "execution_count": null,
      "metadata": {
        "id": "xTzS8va6nvXI"
      },
      "outputs": [],
      "source": [
        "# Numpy is the main package for scientific computing with Python. \n",
        "import numpy as np\n",
        "\n",
        "#from skimage import io\n",
        "\n",
        "# Imports all the methods we define in the file a1code.py\n",
        "from a1code import *\n",
        "\n",
        "# Matplotlib is a useful plotting library for python \n",
        "import matplotlib.pyplot as plt\n",
        "# This code is to make matplotlib figures appear inline in the\n",
        "# notebook rather than in a new window.\n",
        "%matplotlib inline\n",
        "plt.rcParams['figure.figsize'] = (10.0, 8.0) # set default size of plots\n",
        "plt.rcParams['image.interpolation'] = 'nearest'\n",
        "plt.rcParams['image.cmap'] = 'gray'\n",
        "\n",
        "# Some more magic so that the notebook will reload external python modules;\n",
        "# see http://stackoverflow.com/questions/1907993/autoreload-of-modules-in-ipython\n",
        "%load_ext autoreload\n",
        "%autoreload 2\n",
        "%reload_ext autoreload"
      ]
    },
    {
      "cell_type": "markdown",
      "metadata": {
        "id": "6ye5axCbnvXJ"
      },
      "source": [
        "## Question 0: Numpy warm up! (5%)\n",
        "\n",
        "Before starting the assignment, make sure you have a working Python 3 installation, with up to date versions of the libraries mentioned above. If this is all new to you, I'd suggest  downloading an all in one Python installation such as [Anaconda](https://www.anaconda.com/products/individual). Alternatively you can use a Python package manager such as pip or conda, to get the libraries you need. If you're struggling with this please ask a question on the MyUni discussion forum.\n",
        "\n",
        "For this assignment, you need some familiarity with numpy syntax. The numpy QuickStart should be enough to get you started:\n",
        "\n",
        "https://numpy.org/doc/stable/user/quickstart.html\n",
        "\n",
        "Here are a few warm up exercises to make sure you understand the basics. Answer them in the space below. Be sure to print the output of each question so we can see it!\n",
        "\n",
        "1. Create a 1D numpy array Z with 12 elements. Fill with values 1 to 12.\n",
        "2. Reshape Z into a 2D numpy array A with 3 rows and 4 columns.\n",
        "3. Reshape Z into a 2D numpy array B with 4 rows and 3 columns.\n",
        "4. Calculate the *matrix* product of A and B.\n",
        "5. Calculate the *element wise* product of $A$ and $B^T$ (B transpose).\n"
      ]
    },
    {
      "cell_type": "code",
      "execution_count": null,
      "metadata": {
        "id": "dcCk1Jt6nvXK"
      },
      "outputs": [],
      "source": [
        ""
      ]
    },
    {
      "cell_type": "markdown",
      "metadata": {
        "id": "B60zKcbpnvXK"
      },
      "source": [
        "You need to be comfortable with numpy arrays because that is how we store images. Let's do that next!\n",
        "\n",
        "## Question 1: Loading and displaying an image (10%)\n",
        "\n",
        "Below is a function to display an image using the pyplot module in matplotlib. Implement the `load()` and `print_stats()` functions in a1code.py so that the following code loads the mandrill image, displays it and prints its height, width and channel. "
      ]
    },
    {
      "cell_type": "code",
      "execution_count": null,
      "metadata": {
        "id": "a9wLpQz-nvXL"
      },
      "outputs": [],
      "source": [
        "def display(img, caption=''):\n",
        "    # Show image using pyplot \n",
        "    plt.figure()\n",
        "    plt.imshow(img)\n",
        "    plt.title(caption)\n",
        "    plt.axis('off')\n",
        "    plt.show()"
      ]
    },
    {
      "cell_type": "code",
      "execution_count": null,
      "metadata": {
        "id": "g4Rp8XW7nvXM"
      },
      "outputs": [],
      "source": [
        "image1 = load('images/cat.jpg')\n",
        "\n",
        "display(image1, 'cat')\n",
        "\n",
        "print_stats(image1)"
      ]
    },
    {
      "cell_type": "markdown",
      "metadata": {
        "id": "tCONJ-XunvXN"
      },
      "source": [
        "Return to this question after reading through the rest of the assignment. Find 2 more images to use as test cases in this assignment for all the following questions and display them below. Use your print_stats() function to display their height, width and number of channels. Explain *why* you have chosen each image."
      ]
    },
    {
      "cell_type": "code",
      "execution_count": null,
      "metadata": {
        "id": "y4-kgWamnvXN"
      },
      "outputs": [],
      "source": [
        "### Your code to load and display your images here"
      ]
    },
    {
      "cell_type": "markdown",
      "metadata": {
        "id": "teBs9aY_nvXO"
      },
      "source": [
        "***Your explanation of images here***"
      ]
    },
    {
      "cell_type": "markdown",
      "metadata": {
        "id": "D0C4vaWAnvXP"
      },
      "source": [
        "## Question 2: Image processing (20%)\n",
        "\n",
        "Now that you have an image stored as a numpy array, let's try some operations on it.\n",
        "\n",
        "1. Implement the `crop()` function in a1code.py. Use array slicing to crop the image.\n",
        "2. Implement the `resize()` function in a1code.py.\n",
        "3. Implement the `change_contrast()` function in a1code.py.\n",
        "4. Implement the `greyscale()` function in a1code.py.\n",
        "5. Implement the `binary()` function in a1code.py.\n",
        "\n",
        "What do you observe when you change the threshold of the binary function?\n",
        "\n",
        "Apply all these functions with different parameters on your own test images."
      ]
    },
    {
      "cell_type": "code",
      "execution_count": null,
      "metadata": {
        "id": "wa-uPtH7nvXP"
      },
      "outputs": [],
      "source": [
        "# This should crop the head from the cat image\n",
        "crop_img = crop(image1, 278, 5, 508, 272)\n",
        "display(crop_img) \n",
        "print_stats(crop_img)\n",
        "\n",
        "resize_img = resize(crop_img, 0.5, 0.6 )\n",
        "display(resize_img)\n",
        "print_stats(resize_img)\n",
        "\n",
        "contrast_img = change_contrast(image1, 0.5)\n",
        "display(contrast_img)\n",
        "print_stats(contrast_img)\n",
        "\n",
        "contrast_img = change_contrast(image1, 1.5)\n",
        "display(contrast_img)\n",
        "print_stats(contrast_img)\n",
        "\n",
        "grey_img = greyscale(image1)\n",
        "display(grey_img)\n",
        "print_stats(grey_img)\n",
        "\n",
        "binary_img = binary(grey_img, 0.3)\n",
        "display(binary_img)\n",
        "print_stats(binary_img)\n",
        "\n",
        "binary_img = binary(grey_img, 0.7)\n",
        "display(binary_img)\n",
        "print_stats(binary_img)\n",
        "\n",
        "# Add your own tests here...\n"
      ]
    },
    {
      "cell_type": "markdown",
      "metadata": {
        "id": "dx6w6z0ynvXP"
      },
      "source": [
        "## Question 3: Convolution (20%)\n",
        "\n",
        "### 3.1 2D convolution\n",
        "\n",
        "Using the definition of 2D convolution from week 1, implement the convolution operation in the function `conv2D()` in a1code.py.\n"
      ]
    },
    {
      "cell_type": "code",
      "execution_count": null,
      "metadata": {
        "id": "sIkQld3envXQ"
      },
      "outputs": [],
      "source": [
        "test_conv2D()"
      ]
    },
    {
      "cell_type": "markdown",
      "metadata": {
        "id": "JxsYnQQPnvXQ"
      },
      "source": [
        "### 3.2 RGB convolution\n",
        "\n",
        "In the function `conv` in a1code.py, extend your function `conv2D` to work on RGB images, by applying the 2D convolution to each channel independently. "
      ]
    },
    {
      "cell_type": "markdown",
      "metadata": {
        "id": "Dv82cYbgnvXQ"
      },
      "source": [
        "### 3.3 Gaussian filter convolution\n",
        "\n",
        "Use the `gauss2D` function provided in a1code.py to create a Gaussian kernel, and apply it to your images with convolution. You will obtain marks for trying different tests and analysing the results, for example:\n",
        "\n",
        "- try varying the image size, and the size and variance of the filter  \n",
        "- subtract the filtered image from the original - this gives you an idea of what information is lost when filtering\n",
        "\n",
        "What do you observe and why?"
      ]
    },
    {
      "cell_type": "markdown",
      "metadata": {
        "id": "WpnxewpanvXR"
      },
      "source": [
        "### 3.4 Sobel filters\n",
        "\n",
        "Define a horizontal and vertical Sobel edge filter kernel and test them on your images. You will obtain marks for testing them and displaying results in interesting ways, for example:\n",
        "\n",
        "- apply them to an image at different scales\n",
        "- considering how to display positive and negative gradients\n",
        "- apply different combinations of horizontal and vertical filters"
      ]
    },
    {
      "cell_type": "code",
      "execution_count": null,
      "metadata": {
        "id": "MfLN6SvinvXR"
      },
      "outputs": [],
      "source": [
        "# Your code to answer 3.3, 3.4 and displaay results here."
      ]
    },
    {
      "cell_type": "markdown",
      "metadata": {
        "id": "hp9L6sfynvXR"
      },
      "source": [
        "***Your comments/analysis of your results here...***"
      ]
    },
    {
      "cell_type": "markdown",
      "metadata": {
        "id": "NCSysY1VnvXR"
      },
      "source": [
        "## Question 4: Image sampling and pyramids (25%)\n",
        "\n",
        "### 4.1 Image Sampling\n",
        "\n",
        "Apply your `resize()` function to reduce an image (I) to 0.125 height and width, and then to enlarge the image back to its original size to get an image (I'). Display and compare I and I'.\n",
        "\n",
        "Apply a Sobel filter to I to get the edge image E.\n",
        "\n",
        "Apply a Sobel filter to I' to get the edge image E'.\n",
        "\n",
        "Display and compare E and E'. What do you observe and why?\n",
        "\n",
        "### 4.2 Image Pyramids \n",
        "Creat a Gaussian pyramid as described in week2's lecture on an image.\n",
        "\n",
        "Apply a Gaussian kernel to an image I, and resize it with ratio 0.5, to get $I_1$. Repeat this step to get $I_2$, $I_3$ and $I_4$.\n",
        "\n",
        "Display these four images following the zebra example shown in the lecture note.\n",
        "\n",
        "What is your observation?\n",
        "\n"
      ]
    },
    {
      "cell_type": "code",
      "execution_count": null,
      "metadata": {
        "id": "6tJYuApFnvXS"
      },
      "outputs": [],
      "source": [
        "# Your answers to question 4 here"
      ]
    },
    {
      "cell_type": "markdown",
      "metadata": {
        "id": "23grHWRLnvXS"
      },
      "source": [
        "***Your comments/analysis of your results here...***"
      ]
    },
    {
      "cell_type": "markdown",
      "metadata": {
        "id": "QiwL3SpHnvXS"
      },
      "source": [
        "## Question 5: Auto correlation (20%)\n",
        "\n",
        "Recall from week 2 that cross-correlation is a measure of similarity between a template and an image. It is defined similarly to convolution.\n",
        "\n",
        "### 5.1 Correlation function\n",
        "\n",
        "Implement the function `corr()` in a1code.py, based on your convolution function. Hint: numpy's `flip()` function may be useful here.\n",
        "\n",
        "### 5.2 Auto-correlation\n",
        "\n",
        "We will experiment with *auto-correlation*, where the template patch is taken from the image it is being compared to. Use the cropped eye from Question 2 as your template. Calculate the correlation of that template with every location in the image, and display the output as an image. Where is the maximum similarity? (Hint: numpy functions `argmax()` and `unravel()` will be useful here). For simplicity, you can use a greyscale version of the image and template.\n",
        "\n",
        "Is it what you expect? Why or why not?\n",
        "\n",
        "### 5.3 Modified auto-correlation\n",
        "\n",
        "Try modifying your correlation template or the base image in different ways, and analyse the effect on correlation results. For example:\n",
        "\n",
        "- if you did not find the correct location in 5.2, try centering the template about its mean (i.e. subtracting the mean brightness from each pixel)\n",
        "- if you did find the correct location in 5.2, try using `resize()` and `change_contrast()` on the image. Where does it fail?\n",
        "\n",
        "As before you will obtain marks for coming up with interesting tests and analysis, and displaying your results clearly. \n"
      ]
    },
    {
      "cell_type": "code",
      "execution_count": null,
      "metadata": {
        "id": "B_fvxboznvXS"
      },
      "outputs": [],
      "source": [
        "# Your code to answer question 5 and display results here"
      ]
    }
  ],
  "metadata": {
    "kernelspec": {
      "display_name": "Python 3",
      "language": "python",
      "name": "python3"
    },
    "language_info": {
      "codemirror_mode": {
        "name": "ipython",
        "version": 3
      },
      "file_extension": ".py",
      "mimetype": "text/x-python",
      "name": "python",
      "nbconvert_exporter": "python",
      "pygments_lexer": "ipython3",
      "version": "3.8.5"
    },
    "colab": {
      "name": "“Assignment_1_ipynb”的副本.ipynb",
      "provenance": [],
      "collapsed_sections": [],
      "toc_visible": true
    }
  },
  "nbformat": 4,
  "nbformat_minor": 0
}