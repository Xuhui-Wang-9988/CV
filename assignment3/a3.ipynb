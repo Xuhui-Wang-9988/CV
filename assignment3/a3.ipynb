{
 "cells": [
  {
   "cell_type": "markdown",
   "metadata": {
    "id": "DMOJD0_jdzzg",
    "pycharm": {
     "name": "#%% md\n"
    }
   },
   "source": [
    "## Computer vision 2022 Assignment 3: Deep Learning for Perception Tasks\n",
    "\n",
    "This assignment contains 2 questions. The first question gives you a basic understanding of the classifier. The second question requires you to write a simple proposal.\n",
    "\n",
    "# Question 1: A simple classifier (60%)\n",
    "\n",
    "For this exercise, we will provide a demo code showing how to train a network on a small dataset called FashionMinst. Please go through the following tutorials first. You will get a basic understanding about how to train an image classification network in pytorch. You can change the training scheme and the network structure. Please answer the following questions then. You can orginaze your own text and code cell to show the answer of each questions.\n",
    "\n",
    "\n",
    "Note: Please plot the loss curve for each experiment (2 point).\n",
    "\n",
    "\n",
    "Requirement:\n",
    "\n",
    "Q1.1 (1 point) Change the learning rate and train for 10 epochs. Fill this table:\n",
    "\n",
    "|Lr| Accuracy |\n",
    "|---|----------|\n",
    "|1   | 10%       |\n",
    "|0.1| 87.6%    |\n",
    "|0.01| 83.3%    |\n",
    "|0.001  | 71.6%    |\n",
    "\n",
    "\n",
    "Q1.2 (2 point) Report the number of epochs when the network is converged.\n",
    "Hint: The network is called \"converged\" when the accuracy is not changed (or the change is smaller than a threshold).\n",
    "\n",
    "|Lr| Accuracy | Epoch |\n",
    "|---|----------|-------|\n",
    "|1   | 10%      | 56     |\n",
    "|0.1| 89.8%    | 164   |\n",
    "|0.01| 89.3%    | 398   |\n",
    "|0.001  | 88.9%    | 642   |\n",
    "\n",
    "\n",
    "Q1.3 (2 points) Compare the results in table 1 and table 2, what is your observation and your understanding of learning rate?\n",
    "\n",
    "I performed a total of three model training sessions, with a learning rate of 0.01 chosen, all with 1000 training sessions. The base set was generally very stable with a parameter count of 669,706, and accuracy generally continued to increase, reaching 89.3% over 1000 training sessions, with the loss value starting to increase after about eighty training sessions. Without changing the width, I deepened one linear layer and one activation layer to give more depth to the model. At the beginning of the training, the accuracy would be lower than the base and width groups, and he reached 89.3% accuracy when training reached 384 times, and 89.5% at 1000 times. With 932,362 parameters, it took him less time to reach 89.2% accuracy than in the base group, but his loss values also rose more quickly. In the wider group, with 1333770 parameters, I changed the size from 512 to 1024 and increased his width. In the first training session, the accuracy rate was 72.5%, and by the time we reached 256 sessions, the accuracy rate was 89.3%, and the rate of increase in loss was much slower than in the other two groups. The highest value was 89.7%. By looking at the number of parameters in the three groups, we can see that the more parameters, the better the training, but at the same time, the instability increases and the possibility of overfitting is greater.\n",
    "\n",
    "Q1.4 (3 point) Build a deeper/ wider network. Report the accuracy and the parameters for each structure. Parameters represent the number of trainable parameters in your model, e.g. a 3 x 3 conv has 9 parameters.\n",
    "\n",
    "|Structures| Accuracy | Parameters |\n",
    "|---|----------|------------|\n",
    "|Base   | 89.2%    | 669706     |\n",
    "|Deeper| 89.2%    | 932362    |\n",
    "|Wider| 89.3%    | 1333770         |\n",
    "\n",
    "\n",
    "Q1.5 (2 points) Choose to do one of the following two tasks:\n",
    "\n",
    "a. Write a code to calculate the parameter and expian the code.\n",
    "\n",
    "The torchsummary library provides us with a visual method of summary, so I call this method\n",
    "\n",
    "OR\n",
    "\n",
    "b. Write done the process of how to calculate the parameters by hand. \n",
    "\n",
    "\n",
    "Q1.6 (1 points) What are your observations and conclusions for changing network structure?\n",
    "\n",
    "I ran the model training three times in total, all 1000 times. The training of the base group is generally very stable, and the accuracy rate generally continues to rise, reaching 89.2% in 1000 training sessions. Without changing the width, I deepened a linear layer and an activation layer to make the model deeper. At the beginning of training, the accuracy rate will be lower than that of base and wider, and when the training reaches 664 times , his accuracy reached 89.2%, but it dropped to 88.6% at 1000 times. Compared with the base group, it took less time for his accuracy to reach 89.2%, but it did not continue to increase after that, which shows that It is already in a state of overfitting and the loss value keeps rising. In the wider group, I changed the size from 512 to 1024 and increased his width. In the first training, the accuracy rate reached 55.3%, and when the training reached 788 times, the accuracy rate reached the third group. The highest value was 89.3%, and then dropped to 89.2%. By observing the number of parameters in the three groups, we can find that the more parameters, the better the training effect, but at the same time, the unstable factors will also increase, and there is a greater possibility of overfitting.\n",
    "\n",
    "Q1.7 (2 points) Calculate the mean of the gradients of the loss to all trainable parameters. Plot the gradients curve for the first 100 training steps. What are your observations? Note that this gradients will be saved with the training weight automatically after you call loss.backwards(). Hint: the mean of the gradients should be decreased.\n",
    "\n",
    "For more exlanation of q1.7, you could refer to the following simple instructions: https://colab.research.google.com/drive/1XAsyNegGSvMf3_B6MrsXht7-fHqtJ7OW?usp=sharing"
   ]
  },
  {
   "cell_type": "code",
   "execution_count": 6,
   "metadata": {
    "id": "-sqkIpLjpVsh",
    "pycharm": {
     "name": "#%%\n"
    }
   },
   "outputs": [
    {
     "name": "stderr",
     "output_type": "stream",
     "text": [
      "UsageError: Line magic function `%` not found.\n"
     ]
    }
   ],
   "source": [
    "import numpy as np  # This is for mathematical operations\n",
    "\n",
    "# this is used in plotting \n",
    "import matplotlib.pyplot as plt\n",
    "import time\n",
    "import pylab as pl\n",
    "from IPython import display\n",
    "from torchinfo import summary\n",
    "\n",
    "% matplotlib inline\n",
    "\n",
    "% load_ext autoreload\n",
    "% autoreload 2\n",
    "% reload_ext autoreload"
   ]
  },
  {
   "cell_type": "code",
   "execution_count": 7,
   "outputs": [],
   "source": [
    "def plot_graph(epoch,array1,array2):\n",
    "\n",
    "    count_array = range(1,epoch+1,1)\n",
    "\n",
    "    print(count_array)\n",
    "\n",
    "    plt.xlabel(\"epochs\",fontsize=20)\n",
    "    plt.ylabel(\"accuracy / loss\",fontsize=20)\n",
    "    plt.plot(count_array,array1)\n",
    "    plt.plot(count_array,array2,color=\"red\")\n",
    "\n",
    "    plt.show()"
   ],
   "metadata": {
    "collapsed": false,
    "pycharm": {
     "name": "#%%\n"
    }
   }
  },
  {
   "cell_type": "code",
   "source": [
    "#### Tutorial Code\n",
    "####PyTorch has two primitives to work with data: torch.utils.data.DataLoader and torch.utils.data.Dataset. \n",
    "#####Dataset stores samples and their corresponding labels, and DataLoader wraps an iterable around the Dataset.\n",
    "import torch\n",
    "from torch import nn\n",
    "from torch.utils.data import DataLoader\n",
    "from torchvision import datasets\n",
    "from torchvision.transforms import ToTensor, Lambda, Compose\n",
    "\n",
    "# Download training data from open datasets. \n",
    "##Every TorchVision Dataset includes two arguments: \n",
    "##transform and target_transform to modify the samples and labels respectively.\n",
    "\n",
    "\n",
    "training_data = datasets.FashionMNIST (\n",
    "        # 下载的根目录为data\n",
    "        root=\"data\",\n",
    "        # 设为训练集\n",
    "        train=True,\n",
    "        download=True,\n",
    "        # 自动打包为tensor\n",
    "        transform=ToTensor (),\n",
    "        )\n",
    "\n",
    "# Download test data from open datasets.\n",
    "test_data = datasets.FashionMNIST (\n",
    "        # 下载的根目录为data\n",
    "        root=\"data\",\n",
    "        # 设为测试集\n",
    "        train=False,\n",
    "        download=True,\n",
    "        # 自动打包为tensor\n",
    "        transform=ToTensor (),\n",
    "        )"
   ],
   "metadata": {
    "id": "1wy3xhEx_x-1",
    "pycharm": {
     "name": "#%%\n"
    }
   },
   "execution_count": 8,
   "outputs": []
  },
  {
   "cell_type": "markdown",
   "source": [
    "We pass the Dataset as an argument to DataLoader. This wraps an iterable over our dataset and supports automatic batching, sampling, shuffling, and multiprocess data loading. Here we define a batch size of 64, i.e. each element in the dataloader iterable will return a batch of 64 features and labels."
   ],
   "metadata": {
    "id": "oNI4IusI_1ol",
    "pycharm": {
     "name": "#%% md\n"
    }
   }
  },
  {
   "cell_type": "code",
   "source": [
    "batch_size = 64\n",
    "# 封装数据，一个封装包的大小为64\n",
    "\n",
    "# Create data loaders.\n",
    "train_dataloader = DataLoader (training_data, batch_size=batch_size)\n",
    "test_dataloader = DataLoader (test_data, batch_size=batch_size)\n",
    "\n",
    "for X, y in test_dataloader:\n",
    "    print (\"Shape of X [N, C, H, W]: \", X.shape)\n",
    "    print (\"Shape of y: \", y.shape, y.dtype)\n",
    "    break"
   ],
   "metadata": {
    "id": "nQZ5l5Zs_4C3",
    "pycharm": {
     "name": "#%%\n",
     "is_executing": true
    }
   },
   "execution_count": null,
   "outputs": []
  },
  {
   "cell_type": "markdown",
   "source": [
    "To define a neural network in PyTorch, we create a class that inherits from nn.Module. We define the layers of the network in the init function and specify how data will pass through the network in the forward function. To accelerate operations in the neural network, we move it to the GPU if available."
   ],
   "metadata": {
    "id": "XMtCU2LO_9Dk",
    "pycharm": {
     "name": "#%% md\n"
    }
   }
  },
  {
   "cell_type": "code",
   "source": [
    "# 使用GPU训练\n",
    "# Get cpu or gpu device for training.\n",
    "device = \"cuda\" if torch.cuda.is_available () else \"cpu\"\n",
    "print (\"Using {} device\".format (device))\n",
    "\n",
    "\n",
    "# 定义训练模型\n",
    "# Define model\n",
    "class NeuralNetwork (nn.Module):\n",
    "    # 定义卷积神经网络\n",
    "    def __init__ (self):\n",
    "        # 调用父类构造函数\n",
    "        super (NeuralNetwork, self).__init__ ()\n",
    "        # 将 张量 改为 一维向量 1 * with * height -> 1 * (with*height)\n",
    "        self.flatten = nn.Flatten ()\n",
    "\n",
    "        # base\n",
    "        self.linear_relu_stack = nn.Sequential (\n",
    "                #      输入样本size  输出样本的size\n",
    "                nn.Linear (28 * 28, 512),\n",
    "                # 激活函数\n",
    "                nn.ReLU (),\n",
    "                nn.Linear (512, 512),\n",
    "                nn.ReLU (),\n",
    "                # 最后的输出为 N * 10 的矩阵\n",
    "                nn.Linear (512, 10)\n",
    "                )\n",
    "\n",
    "        # deeper\n",
    "        # self.linear_relu_stack = nn.Sequential (\n",
    "        #         #      输入样本size  输出样本的size\n",
    "        #         nn.Linear (28 * 28, 512),\n",
    "        #         # 激活函数\n",
    "        #         nn.ReLU (),\n",
    "        #         nn.Linear (512, 512),\n",
    "        #         nn.ReLU (),\n",
    "        #         nn.Linear (512, 512),\n",
    "        #         nn.ReLU (),\n",
    "        #         # 最后的输出为 N * 10 的矩阵\n",
    "        #         nn.Linear (512, 10)\n",
    "        #         )\n",
    "\n",
    "        # wider\n",
    "        # self.linear_relu_stack = nn.Sequential (\n",
    "        #         #      输入样本size  输出样本的size\n",
    "        #         nn.Linear (28 * 28, 1024),\n",
    "        #         # 激活函数\n",
    "        #         nn.ReLU (),\n",
    "        #         nn.Linear (1024, 512),\n",
    "        #         nn.ReLU (),\n",
    "        #         # 最后的输出为 N * 10 的矩阵\n",
    "        #         nn.Linear (512, 10)\n",
    "        #         )\n",
    "\n",
    "        # self.linear_relu_stack = nn.Sequential (\n",
    "        #         #      输入样本size  输出样本的size\n",
    "        #         nn.Linear (28 * 28, 1024),\n",
    "        #         # 激活函数\n",
    "        #         nn.ReLU (),\n",
    "        #         nn.Linear (1024, 512),\n",
    "        #         nn.ReLU (),\n",
    "        #         nn.Linear (512, 256),\n",
    "        #         nn.ReLU (),\n",
    "        #         # 最后的输出为 N * 10 的矩阵\n",
    "        #         nn.Linear (256, 10)\n",
    "        #         )\n",
    "\n",
    "    # 前馈\n",
    "    def forward (self, x):\n",
    "        x = self.flatten (x)\n",
    "        logits = self.linear_relu_stack (x)\n",
    "        return logits\n",
    "\n",
    "\n",
    "# 创建网络 并放入GPU\n",
    "model = NeuralNetwork ().to (device)\n",
    "print (model)"
   ],
   "metadata": {
    "id": "TRSp7pd3_6bS",
    "pycharm": {
     "name": "#%%\n",
     "is_executing": true
    }
   },
   "execution_count": null,
   "outputs": []
  },
  {
   "cell_type": "code",
   "execution_count": 11,
   "outputs": [],
   "source": [
    "def model_structure(model):\n",
    "    blank = ' '\n",
    "    num_para = 0\n",
    "    type_size = 1  ##如果是浮点数就是4\n",
    "\n",
    "    for index, (key, w_variable) in enumerate(model.named_parameters()):\n",
    "        if len(key) <= 30:\n",
    "            key = key + (30-len(key)) * blank\n",
    "        shape = str(w_variable.shape)\n",
    "        if len(shape) <= 40:\n",
    "            shape = shape + (40-len(shape)) * blank\n",
    "        each_para = 1\n",
    "        for k in w_variable.shape:\n",
    "            each_para *= k\n",
    "        num_para += each_para\n",
    "        str_num = str(each_para)\n",
    "        if len(str_num) <= 10:\n",
    "            str_num = str_num + (10-len(str_num)) * blank\n",
    "    print('The total number of parameters: ' + str(num_para))\n",
    "    print('The parameters of Model {}: {:4f}M'.format(model._get_name(), num_para * type_size / 1000 / 1000))"
   ],
   "metadata": {
    "collapsed": false,
    "pycharm": {
     "name": "#%%\n"
    }
   }
  },
  {
   "cell_type": "code",
   "execution_count": null,
   "outputs": [],
   "source": [
    "print('Q1.5')\n",
    "model_structure(model)"
   ],
   "metadata": {
    "collapsed": false,
    "pycharm": {
     "name": "#%%\n",
     "is_executing": true
    }
   }
  },
  {
   "cell_type": "code",
   "execution_count": 13,
   "outputs": [
    {
     "data": {
      "text/plain": "==========================================================================================\nLayer (type:depth-idx)                   Output Shape              Param #\n==========================================================================================\nNeuralNetwork                            --                        --\n├─Flatten: 1-1                           [64, 784]                 --\n├─Sequential: 1-2                        [64, 10]                  --\n│    └─Linear: 2-1                       [64, 512]                 401,920\n│    └─ReLU: 2-2                         [64, 512]                 --\n│    └─Linear: 2-3                       [64, 512]                 262,656\n│    └─ReLU: 2-4                         [64, 512]                 --\n│    └─Linear: 2-5                       [64, 10]                  5,130\n==========================================================================================\nTotal params: 669,706\nTrainable params: 669,706\nNon-trainable params: 0\nTotal mult-adds (M): 42.86\n==========================================================================================\nInput size (MB): 0.20\nForward/backward pass size (MB): 0.53\nParams size (MB): 2.68\nEstimated Total Size (MB): 3.41\n=========================================================================================="
     },
     "execution_count": 13,
     "metadata": {},
     "output_type": "execute_result"
    }
   ],
   "source": [
    "summary (model, input_size=(batch_size, 1, 28, 28))"
   ],
   "metadata": {
    "collapsed": false,
    "pycharm": {
     "name": "#%%\n"
    }
   }
  },
  {
   "cell_type": "code",
   "source": [
    "# 定义损失函数与优化器\n",
    "###Define the loss function and the optimizer\n",
    "# 交叉熵损失函数\n",
    "loss_fn = nn.CrossEntropyLoss ()\n",
    "#                 优化器      权重                  学习率\n",
    "#                                  获取模型的参数\n",
    "optimizer = torch.optim.SGD (model.parameters (), lr=1)"
   ],
   "metadata": {
    "id": "nYAnKhOfABZr",
    "pycharm": {
     "name": "#%%\n"
    }
   },
   "execution_count": 17,
   "outputs": []
  },
  {
   "cell_type": "code",
   "execution_count": 18,
   "outputs": [],
   "source": [
    "loss_grad = []"
   ],
   "metadata": {
    "collapsed": false,
    "pycharm": {
     "name": "#%%\n"
    }
   }
  },
  {
   "cell_type": "code",
   "execution_count": 19,
   "outputs": [],
   "source": [
    "accuracy = []"
   ],
   "metadata": {
    "collapsed": false,
    "pycharm": {
     "name": "#%%\n"
    }
   }
  },
  {
   "cell_type": "code",
   "execution_count": 20,
   "outputs": [],
   "source": [
    "loss = []"
   ],
   "metadata": {
    "collapsed": false,
    "pycharm": {
     "name": "#%%\n"
    }
   }
  },
  {
   "cell_type": "markdown",
   "source": [
    "In a single training loop, the model makes predictions on the training dataset (fed to it in batches), and backpropagates the prediction error to adjust the model’s parameters."
   ],
   "metadata": {
    "id": "OFZYEHY7ADvS",
    "pycharm": {
     "name": "#%% md\n"
    }
   }
  },
  {
   "cell_type": "code",
   "source": [
    "# 训练\n",
    "def train (dataloader, model, loss_fn, optimizer):\n",
    "    size = len (dataloader.dataset)\n",
    "    # 将模型切换至训练模式\n",
    "    model.train ()\n",
    "\n",
    "    # 临时\n",
    "    count = 0\n",
    "    total = 0\n",
    "\n",
    "    # 构建计算图时使用张量tensor []\n",
    "    for batch, (X, y) in enumerate (dataloader):\n",
    "\n",
    "        # 训练时，输入 训练数据，标签\n",
    "        # 放入GPU中训练\n",
    "        X, y = X.to (device), y.to (device)\n",
    "\n",
    "        # Compute prediction error\n",
    "        # 计算损失值\n",
    "        # 预测值 (前馈)\n",
    "        pred = model (X)\n",
    "        #              预测值  实际值\n",
    "        loss = loss_fn (pred, y)\n",
    "\n",
    "        # Backpropagation\n",
    "        # 反向传播\n",
    "        # 将梯度初始化为零(如果不清0将保持上一次的grad，会对结果造成影响)\n",
    "        # (根据训练计划而定，特定情况下不用清零)\n",
    "        optimizer.zero_grad ()\n",
    "\n",
    "        # 临时\n",
    "        total += loss.cpu().item()\n",
    "        count += 1\n",
    "\n",
    "        # 反向传播计算得到的每个参数的梯度值 (反馈)\n",
    "        loss.backward ()\n",
    "\n",
    "        # 通过梯度下降执行一次参数的更新 (更新 )\n",
    "        optimizer.step ()\n",
    "\n",
    "        if batch % 100 == 0:\n",
    "            # 更新 参数的时候使用 标量 ，否则会对计算图造成影响(内存消耗)\n",
    "            #                    python语法，item()获取 标量\n",
    "            loss, current = loss.item (), batch * len (X)\n",
    "            print (f\"loss: {loss:>7f}  [{current:>5d}/{size:>5d}]\")\n",
    "    # 临时\n",
    "    loss_grad.append(total/count)"
   ],
   "metadata": {
    "id": "L741B0uXAFrf",
    "pycharm": {
     "name": "#%%\n"
    }
   },
   "execution_count": 21,
   "outputs": []
  },
  {
   "cell_type": "code",
   "source": [
    "##Define a test function\n",
    "def test (dataloader, model, loss_fn):\n",
    "    size = len (dataloader.dataset)\n",
    "    num_batches = len (dataloader)\n",
    "    # 将模型切换为评估模式\n",
    "    # 关闭 batchnormalization和dropout，防止在预测时影响预测结果\n",
    "    model.eval ()\n",
    "    test_loss, correct = 0, 0\n",
    "    # 将requires_grad统一设为false，在方向传播时候，梯度将不会自动求导\n",
    "    with torch.no_grad ():\n",
    "        for X, y in dataloader:\n",
    "            X, y = X.to (device), y.to (device)\n",
    "            # 获取预测值\n",
    "            pred = model (X)\n",
    "            # 获取差                        这里使用标量\n",
    "            test_loss += loss_fn (pred, y).item ()\n",
    "            # 统计正确的\n",
    "            #        返回预测矩阵中的最大值 == y\n",
    "            correct += (pred.argmax (1) == y).type (torch.float).sum ().item ()\n",
    "    # 计算损失值\n",
    "    test_loss /= num_batches\n",
    "    loss.append(test_loss)\n",
    "    # 计算正确率\n",
    "    correct /= size\n",
    "    accuracy.append(correct)\n",
    "    print (f\"Test Error: \\n Accuracy: {(100 * correct):>0.1f}%, Avg loss: {test_loss:>8f} \\n\")"
   ],
   "metadata": {
    "id": "A44xKKnjAINf",
    "pycharm": {
     "name": "#%%\n"
    }
   },
   "execution_count": 22,
   "outputs": []
  },
  {
   "cell_type": "code",
   "execution_count": null,
   "outputs": [],
   "source": [
    "epochs = 100\n",
    "accuracy.clear()\n",
    "loss.clear()\n",
    "for t in range (epochs):\n",
    "    print (f\"Epoch {t + 1}\\n-------------------------------\")\n",
    "    train (train_dataloader, model, loss_fn, optimizer)\n",
    "    test (test_dataloader, model, loss_fn)\n",
    "    print (\"Done!\")"
   ],
   "metadata": {
    "collapsed": false,
    "pycharm": {
     "name": "#%%\n",
     "is_executing": true
    }
   }
  },
  {
   "cell_type": "code",
   "execution_count": 22,
   "outputs": [
    {
     "name": "stdout",
     "output_type": "stream",
     "text": [
      "1\n",
      "range(1, 11)\n"
     ]
    },
    {
     "data": {
      "text/plain": "<Figure size 432x288 with 1 Axes>",
      "image/png": "[encoded data removed]"
     },
     "metadata": {
      "needs_background": "light"
     },
     "output_type": "display_data"
    }
   ],
   "source": [
    "print(\"1\")\n",
    "plot_graph(epochs,accuracy,loss)"
   ],
   "metadata": {
    "collapsed": false,
    "pycharm": {
     "name": "#%%\n"
    }
   }
  },
  {
   "cell_type": "code",
   "execution_count": 36,
   "outputs": [
    {
     "name": "stdout",
     "output_type": "stream",
     "text": [
      "0.1\n",
      "range(1, 11)\n"
     ]
    },
    {
     "data": {
      "text/plain": "<Figure size 432x288 with 1 Axes>",
      "image/png": "[encoded data removed]"
     },
     "metadata": {
      "needs_background": "light"
     },
     "output_type": "display_data"
    }
   ],
   "source": [
    "print(\"0.1\")\n",
    "plot_graph(epochs,accuracy,loss)"
   ],
   "metadata": {
    "collapsed": false,
    "pycharm": {
     "name": "#%%\n"
    }
   }
  },
  {
   "cell_type": "code",
   "execution_count": 54,
   "outputs": [
    {
     "name": "stdout",
     "output_type": "stream",
     "text": [
      "0.01\n",
      "range(1, 11)\n"
     ]
    },
    {
     "data": {
      "text/plain": "<Figure size 432x288 with 1 Axes>",
      "image/png": "[encoded data removed]"
     },
     "metadata": {
      "needs_background": "light"
     },
     "output_type": "display_data"
    }
   ],
   "source": [
    "print(\"0.01\")\n",
    "plot_graph(epochs,accuracy,loss)"
   ],
   "metadata": {
    "collapsed": false,
    "pycharm": {
     "name": "#%%\n"
    }
   }
  },
  {
   "cell_type": "code",
   "execution_count": 78,
   "outputs": [
    {
     "name": "stdout",
     "output_type": "stream",
     "text": [
      "0.001\n",
      "range(1, 11)\n"
     ]
    },
    {
     "data": {
      "text/plain": "<Figure size 432x288 with 1 Axes>",
      "image/png": "[encoded data removed]"
     },
     "metadata": {
      "needs_background": "light"
     },
     "output_type": "display_data"
    }
   ],
   "source": [
    "print(\"0.001\")\n",
    "plot_graph(epochs,accuracy,loss)"
   ],
   "metadata": {
    "collapsed": false,
    "pycharm": {
     "name": "#%%\n"
    }
   }
  },
  {
   "cell_type": "code",
   "execution_count": 35,
   "outputs": [
    {
     "name": "stdout",
     "output_type": "stream",
     "text": [
      "base:\n"
     ]
    }
   ],
   "source": [
    "print(\"base:\")"
   ],
   "metadata": {
    "collapsed": false,
    "pycharm": {
     "name": "#%%\n"
    }
   }
  },
  {
   "cell_type": "code",
   "execution_count": 29,
   "outputs": [
    {
     "name": "stdout",
     "output_type": "stream",
     "text": [
      "range(1, 1001)\n"
     ]
    },
    {
     "data": {
      "text/plain": "<Figure size 432x288 with 1 Axes>",
      "image/png": "[encoded data removed]"
     },
     "metadata": {
      "needs_background": "light"
     },
     "output_type": "display_data"
    }
   ],
   "source": [
    "plot_graph(epochs,accuracy,loss)"
   ],
   "metadata": {
    "collapsed": false,
    "pycharm": {
     "name": "#%%\n"
    }
   }
  },
  {
   "cell_type": "code",
   "execution_count": null,
   "outputs": [],
   "source": [
    "#1.4 wider\n",
    "epochs = 1000\n",
    "for t in range (epochs):\n",
    "    print (f\"Epoch {t + 1}\\n-------------------------------\")\n",
    "    train (train_dataloader, model, loss_fn, optimizer)\n",
    "    test (test_dataloader, model, loss_fn)\n",
    "    print (\"Done!\")"
   ],
   "metadata": {
    "collapsed": false,
    "pycharm": {
     "name": "#%%\n",
     "is_executing": true
    }
   }
  },
  {
   "cell_type": "code",
   "execution_count": 48,
   "outputs": [
    {
     "name": "stdout",
     "output_type": "stream",
     "text": [
      "wider:\n"
     ]
    }
   ],
   "source": [
    "print(\"wider:\")"
   ],
   "metadata": {
    "collapsed": false,
    "pycharm": {
     "name": "#%%\n"
    }
   }
  },
  {
   "cell_type": "code",
   "execution_count": 95,
   "outputs": [
    {
     "name": "stdout",
     "output_type": "stream",
     "text": [
      "range(1, 1001)\n"
     ]
    },
    {
     "data": {
      "text/plain": "<Figure size 432x288 with 1 Axes>",
      "image/png": "[encoded data removed]"
     },
     "metadata": {
      "needs_background": "light"
     },
     "output_type": "display_data"
    }
   ],
   "source": [
    "plot_graph(epochs,accuracy,loss)"
   ],
   "metadata": {
    "collapsed": false,
    "pycharm": {
     "name": "#%%\n"
    }
   }
  },
  {
   "cell_type": "code",
   "execution_count": null,
   "outputs": [],
   "source": [
    "#1.4 deeper\n",
    "epochs = 1000\n",
    "for t in range (epochs):\n",
    "    print (f\"Epoch {t + 1}\\n-------------------------------\")\n",
    "    train (train_dataloader, model, loss_fn, optimizer)\n",
    "    test (test_dataloader, model, loss_fn)\n",
    "    print (\"Done!\")"
   ],
   "metadata": {
    "collapsed": false,
    "pycharm": {
     "name": "#%%\n",
     "is_executing": true
    }
   }
  },
  {
   "cell_type": "code",
   "execution_count": 49,
   "outputs": [
    {
     "name": "stdout",
     "output_type": "stream",
     "text": [
      "deeper:\n"
     ]
    }
   ],
   "source": [
    "print(\"deeper:\")"
   ],
   "metadata": {
    "collapsed": false,
    "pycharm": {
     "name": "#%%\n"
    }
   }
  },
  {
   "cell_type": "code",
   "execution_count": 47,
   "outputs": [
    {
     "name": "stdout",
     "output_type": "stream",
     "text": [
      "range(1, 1001)\n"
     ]
    },
    {
     "data": {
      "text/plain": "<Figure size 432x288 with 1 Axes>",
      "image/png": "[encoded data removed]"
     },
     "metadata": {
      "needs_background": "light"
     },
     "output_type": "display_data"
    }
   ],
   "source": [
    "plot_graph(epochs,accuracy,loss)"
   ],
   "metadata": {
    "collapsed": false,
    "pycharm": {
     "name": "#%%\n"
    }
   }
  },
  {
   "cell_type": "code",
   "execution_count": null,
   "outputs": [],
   "source": [
    "# deeper and wider\n",
    "epochs = 1000\n",
    "accuracy.clear()\n",
    "loss.clear()\n",
    "for t in range (epochs):\n",
    "    print (f\"Epoch {t + 1}\\n-------------------------------\")\n",
    "    train (train_dataloader, model, loss_fn, optimizer)\n",
    "    test (test_dataloader, model, loss_fn)\n",
    "    print (\"Done!\")"
   ],
   "metadata": {
    "collapsed": false,
    "pycharm": {
     "name": "#%%\n",
     "is_executing": true
    }
   }
  },
  {
   "cell_type": "code",
   "execution_count": 79,
   "outputs": [
    {
     "name": "stdout",
     "output_type": "stream",
     "text": [
      "deeper and wider:\n"
     ]
    }
   ],
   "source": [
    "print(\"deeper and wider:\")"
   ],
   "metadata": {
    "collapsed": false,
    "pycharm": {
     "name": "#%%\n"
    }
   }
  },
  {
   "cell_type": "code",
   "execution_count": 18,
   "outputs": [
    {
     "name": "stdout",
     "output_type": "stream",
     "text": [
      "range(1, 1001)\n"
     ]
    },
    {
     "data": {
      "text/plain": "<Figure size 432x288 with 1 Axes>",
      "image/png": "[encoded data removed]"
     },
     "metadata": {
      "needs_background": "light"
     },
     "output_type": "display_data"
    }
   ],
   "source": [
    "plot_graph(epochs,accuracy,loss)"
   ],
   "metadata": {
    "collapsed": false,
    "pycharm": {
     "name": "#%%\n"
    }
   }
  },
  {
   "cell_type": "code",
   "source": [
    "#Train and test the model\n",
    "# 0.001\n",
    "epochs = 1000\n",
    "accuracy.clear()\n",
    "loss.clear()\n",
    "for t in range (epochs):\n",
    "    print (f\"Epoch {t + 1}\\n-------------------------------\")\n",
    "    train (train_dataloader, model, loss_fn, optimizer)\n",
    "    test (test_dataloader, model, loss_fn)\n",
    "    print (\"Done!\")"
   ],
   "metadata": {
    "id": "mJLACDm9AKxv",
    "pycharm": {
     "name": "#%%\n",
     "is_executing": true
    }
   },
   "execution_count": null,
   "outputs": []
  },
  {
   "cell_type": "code",
   "execution_count": 51,
   "outputs": [
    {
     "name": "stdout",
     "output_type": "stream",
     "text": [
      "0.001:\n"
     ]
    }
   ],
   "source": [
    "print(\"0.001:\")"
   ],
   "metadata": {
    "collapsed": false,
    "pycharm": {
     "name": "#%%\n"
    }
   }
  },
  {
   "cell_type": "code",
   "execution_count": 31,
   "outputs": [
    {
     "name": "stdout",
     "output_type": "stream",
     "text": [
      "range(1, 1001)\n"
     ]
    },
    {
     "data": {
      "text/plain": "<Figure size 432x288 with 1 Axes>",
      "image/png": "[encoded data removed]"
     },
     "metadata": {
      "needs_background": "light"
     },
     "output_type": "display_data"
    }
   ],
   "source": [
    "plot_graph(epochs,accuracy,loss)"
   ],
   "metadata": {
    "collapsed": false,
    "pycharm": {
     "name": "#%%\n"
    }
   }
  },
  {
   "cell_type": "code",
   "execution_count": null,
   "outputs": [],
   "source": [
    "#0.1:\n",
    "epochs = 200\n",
    "accuracy.clear()\n",
    "loss.clear()\n",
    "for t in range (epochs):\n",
    "    print (f\"Epoch {t + 1}\\n-------------------------------\")\n",
    "    train (train_dataloader, model, loss_fn, optimizer)\n",
    "    test (test_dataloader, model, loss_fn)\n",
    "    print (\"Done!\")"
   ],
   "metadata": {
    "collapsed": false,
    "pycharm": {
     "name": "#%%\n",
     "is_executing": true
    }
   }
  },
  {
   "cell_type": "code",
   "execution_count": 24,
   "outputs": [
    {
     "name": "stdout",
     "output_type": "stream",
     "text": [
      "0.1:\n"
     ]
    }
   ],
   "source": [
    "print(\"0.1:\")"
   ],
   "metadata": {
    "collapsed": false,
    "pycharm": {
     "name": "#%%\n"
    }
   }
  },
  {
   "cell_type": "code",
   "execution_count": 16,
   "outputs": [
    {
     "name": "stdout",
     "output_type": "stream",
     "text": [
      "range(1, 201)\n"
     ]
    },
    {
     "data": {
      "text/plain": "<Figure size 432x288 with 1 Axes>",
      "image/png": "[encoded data removed]"
     },
     "metadata": {
      "needs_background": "light"
     },
     "output_type": "display_data"
    }
   ],
   "source": [
    "plot_graph(epochs,accuracy,loss)"
   ],
   "metadata": {
    "collapsed": false,
    "pycharm": {
     "name": "#%%\n"
    }
   }
  },
  {
   "cell_type": "code",
   "execution_count": 25,
   "outputs": [
    {
     "name": "stdout",
     "output_type": "stream",
     "text": [
      "1\n",
      "range(1, 101)\n"
     ]
    },
    {
     "data": {
      "text/plain": "<Figure size 432x288 with 1 Axes>",
      "image/png": "[encoded data removed]"
     },
     "metadata": {
      "needs_background": "light"
     },
     "output_type": "display_data"
    }
   ],
   "source": [
    "print(\"1\")\n",
    "plot_graph(epochs,accuracy,loss)"
   ],
   "metadata": {
    "collapsed": false,
    "pycharm": {
     "name": "#%%\n"
    }
   }
  },
  {
   "cell_type": "code",
   "execution_count": null,
   "outputs": [],
   "source": [
    "#Q1.7\n",
    "epochs = 100\n",
    "for t in range (epochs):\n",
    "    print (f\"Epoch {t + 1}\\n-------------------------------\")\n",
    "    train (train_dataloader, model, loss_fn, optimizer)\n",
    "    test (test_dataloader, model, loss_fn)\n",
    "    print (\"Done!\")"
   ],
   "metadata": {
    "collapsed": false,
    "pycharm": {
     "name": "#%%\n",
     "is_executing": true
    }
   }
  },
  {
   "cell_type": "code",
   "execution_count": 53,
   "outputs": [
    {
     "name": "stdout",
     "output_type": "stream",
     "text": [
      "1.7:\n"
     ]
    }
   ],
   "source": [
    "print(\"1.7:\")"
   ],
   "metadata": {
    "collapsed": false,
    "pycharm": {
     "name": "#%%\n"
    }
   }
  },
  {
   "cell_type": "code",
   "execution_count": 15,
   "outputs": [
    {
     "data": {
      "text/plain": "[<matplotlib.lines.Line2D at 0x18ea500ded0>]"
     },
     "execution_count": 15,
     "metadata": {},
     "output_type": "execute_result"
    },
    {
     "data": {
      "text/plain": "<Figure size 432x288 with 1 Axes>",
      "image/png": "[encoded data removed]"
     },
     "metadata": {
      "needs_background": "light"
     },
     "output_type": "display_data"
    }
   ],
   "source": [
    "x = range(1,101,1)\n",
    "plt.plot(x,loss_grad)"
   ],
   "metadata": {
    "collapsed": false,
    "pycharm": {
     "name": "#%%\n"
    }
   }
  },
  {
   "cell_type": "markdown",
   "source": [
    "# Question 2: Proposal for Practical Applications (40%)\n",
    "Look for a typical computer vision problem, such as:\n",
    "a. removing noise on the image\n",
    "\n",
    "b. increasing the resolution of the image\n",
    "\n",
    "c. identifying objects in the image\n",
    "\n",
    "d. segmenting the area to which the image belongs\n",
    "\n",
    "e. estimating the depth of an object\n",
    "\n",
    "f. estimating the motion of two object in different frames\n",
    "\n",
    "h. others\n",
    "\n",
    "Discuss possible applications of this problem in life, e.g. image editing systems in your phone, improved quality of the old film, sweeping robot avoiding obstacles, unlocks the face of the mobile phone, identifies the cancer area according to the medical scan image, determines the identity according to the face, identifies the trash can on the road, and the detection system tracks the target object, etc.\n",
    "\n",
    "In this question, you need to do\n",
    "1. Clearly define the problem and describe its application scenarios\n",
    "2. Briefly describe a feasible solution based on image processing and traditional machine learning algorithms.\n",
    "3. Briefly describe a feasible deep learning-based solution.\n",
    "4. Compare the advantages and disadvantages of the two options.\n",
    "\n",
    "Hint1: Submit an individua report for question 2.\n",
    "\n",
    "Hint2: Well orginaze your report.\n",
    "\n",
    "Hint3: You can draw flow chart or inculde other figures for better understanding of your solution.  \n",
    "\n",
    "Please restrict your report within 800 words. In this question, you do not need to implement your solution. You only need to write down a proposal. Please submit this report in a seperate pdf. \n"
   ],
   "metadata": {
    "collapsed": false,
    "pycharm": {
     "name": "#%% md\n"
    }
   }
  },
  {
   "cell_type": "code",
   "execution_count": null,
   "outputs": [],
   "source": [],
   "metadata": {
    "collapsed": false,
    "pycharm": {
     "name": "#%%\n"
    }
   }
  }
 ],
 "metadata": {
  "colab": {
   "collapsed_sections": [],
   "name": "a3.ipynb",
   "provenance": []
  },
  "kernelspec": {
   "display_name": "Python 3",
   "language": "python",
   "name": "python3"
  },
  "language_info": {
   "codemirror_mode": {
    "name": "ipython",
    "version": 3
   },
   "file_extension": ".py",
   "mimetype": "text/x-python",
   "name": "python",
   "nbconvert_exporter": "python",
   "pygments_lexer": "ipython3",
   "version": "3.8.5"
  }
 },
 "nbformat": 4,
 "nbformat_minor": 0
}